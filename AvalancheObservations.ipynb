{
 "cells": [
  {
   "cell_type": "markdown",
   "id": "roman-subcommittee",
   "metadata": {},
   "source": [
    "# Characteristics of Avalanche Occurrence\n",
    "Date: 06-02-2021\n",
    "Author: Marta Ferrer \n",
    "\n",
    "This project tries to find how the features of an avalanche correlate and thier influence to the Avalanche Danger Level. \n",
    "The Avalanche Observation data set(Schweizer et al., 2020) is analysed by following the CRISP-DM process. We are going to try to find the answers of the following questions:\n",
    "- Is there a relation between different characteristics of avalanches?\n",
    "- What defines the avalanche danger level?\n",
    "- How the danger relates to avalanche snow type, trigger type and size?\n",
    "\n",
    "Let's get started!"
   ]
  },
  {
   "cell_type": "markdown",
   "id": "absolute-offset",
   "metadata": {},
   "source": [
    "## 1. Data Understanding\n",
    "\n",
    "We are be using the data set provided by SLF (Schnee und Lawinenforschung) institute and available [here](https://www.envidat.ch/dataset/snow-avalanche-data-davos). \n",
    "\n",
    "The meaning of the data set columns can be found in [this](https://www.envidat.ch/dataset/snow-avalanche-data-davos/resource/f8d6835f-3ef6-4fe6-94a2-6b7f7b5827ce) pdf and some more glossary about avalanches and their main features can be read [here](https://www.avalanches.org/glossary/#amountoffreshfallensnow)"
   ]
  },
  {
   "cell_type": "code",
   "execution_count": 33,
   "id": "educated-style",
   "metadata": {},
   "outputs": [],
   "source": [
    "# Import libraries\n",
    "import pandas as pd\n",
    "from pandas.api.types import CategoricalDtype\n",
    "import libs.Definitions as definition\n",
    "import libs.Utils as utils\n",
    "\n",
    "%matplotlib inline"
   ]
  },
  {
   "cell_type": "code",
   "execution_count": 20,
   "id": "developed-framing",
   "metadata": {},
   "outputs": [
    {
     "data": {
      "text/html": [
       "<div>\n",
       "<style scoped>\n",
       "    .dataframe tbody tr th:only-of-type {\n",
       "        vertical-align: middle;\n",
       "    }\n",
       "\n",
       "    .dataframe tbody tr th {\n",
       "        vertical-align: top;\n",
       "    }\n",
       "\n",
       "    .dataframe thead th {\n",
       "        text-align: right;\n",
       "    }\n",
       "</style>\n",
       "<table border=\"1\" class=\"dataframe\">\n",
       "  <thead>\n",
       "    <tr style=\"text-align: right;\">\n",
       "      <th></th>\n",
       "      <th>no</th>\n",
       "      <th>x</th>\n",
       "      <th>snow_type</th>\n",
       "      <th>trigger_type</th>\n",
       "      <th>max_elevation_m</th>\n",
       "      <th>min_elevation_m</th>\n",
       "      <th>aspect_degrees</th>\n",
       "      <th>length_m</th>\n",
       "      <th>width_m</th>\n",
       "      <th>perimeter_length_m</th>\n",
       "      <th>area_m2</th>\n",
       "      <th>aval_size_class</th>\n",
       "      <th>weight_AAI</th>\n",
       "      <th>max.danger.corr</th>\n",
       "    </tr>\n",
       "  </thead>\n",
       "  <tbody>\n",
       "    <tr>\n",
       "      <th>0</th>\n",
       "      <td>1</td>\n",
       "      <td>06/11/1998</td>\n",
       "      <td>dry</td>\n",
       "      <td>NATURAL</td>\n",
       "      <td>2476.0</td>\n",
       "      <td>2439.0</td>\n",
       "      <td>4.0</td>\n",
       "      <td>63.0</td>\n",
       "      <td>33.0</td>\n",
       "      <td>168.0</td>\n",
       "      <td>1413.0</td>\n",
       "      <td>2</td>\n",
       "      <td>0.1</td>\n",
       "      <td>NaN</td>\n",
       "    </tr>\n",
       "    <tr>\n",
       "      <th>1</th>\n",
       "      <td>2</td>\n",
       "      <td>07/12/1998</td>\n",
       "      <td>dry</td>\n",
       "      <td>NATURAL</td>\n",
       "      <td>2562.0</td>\n",
       "      <td>2484.0</td>\n",
       "      <td>42.0</td>\n",
       "      <td>101.0</td>\n",
       "      <td>123.0</td>\n",
       "      <td>355.0</td>\n",
       "      <td>8762.0</td>\n",
       "      <td>2</td>\n",
       "      <td>0.1</td>\n",
       "      <td>3.0</td>\n",
       "    </tr>\n",
       "    <tr>\n",
       "      <th>2</th>\n",
       "      <td>3</td>\n",
       "      <td>07/12/1998</td>\n",
       "      <td>dry</td>\n",
       "      <td>NATURAL</td>\n",
       "      <td>2494.0</td>\n",
       "      <td>2356.0</td>\n",
       "      <td>21.0</td>\n",
       "      <td>127.0</td>\n",
       "      <td>351.0</td>\n",
       "      <td>834.0</td>\n",
       "      <td>30522.0</td>\n",
       "      <td>3</td>\n",
       "      <td>1.0</td>\n",
       "      <td>3.0</td>\n",
       "    </tr>\n",
       "    <tr>\n",
       "      <th>3</th>\n",
       "      <td>4</td>\n",
       "      <td>07/12/1998</td>\n",
       "      <td>dry</td>\n",
       "      <td>HUMAN</td>\n",
       "      <td>2115.0</td>\n",
       "      <td>2017.0</td>\n",
       "      <td>200.0</td>\n",
       "      <td>166.0</td>\n",
       "      <td>85.0</td>\n",
       "      <td>454.0</td>\n",
       "      <td>7837.0</td>\n",
       "      <td>2</td>\n",
       "      <td>0.1</td>\n",
       "      <td>3.0</td>\n",
       "    </tr>\n",
       "    <tr>\n",
       "      <th>4</th>\n",
       "      <td>5</td>\n",
       "      <td>07/12/1998</td>\n",
       "      <td>dry</td>\n",
       "      <td>NATURAL</td>\n",
       "      <td>2085.0</td>\n",
       "      <td>1986.0</td>\n",
       "      <td>42.0</td>\n",
       "      <td>128.0</td>\n",
       "      <td>18.0</td>\n",
       "      <td>265.0</td>\n",
       "      <td>1522.0</td>\n",
       "      <td>2</td>\n",
       "      <td>0.1</td>\n",
       "      <td>3.0</td>\n",
       "    </tr>\n",
       "  </tbody>\n",
       "</table>\n",
       "</div>"
      ],
      "text/plain": [
       "   no           x snow_type trigger_type  max_elevation_m  min_elevation_m  \\\n",
       "0   1  06/11/1998       dry      NATURAL           2476.0           2439.0   \n",
       "1   2  07/12/1998       dry      NATURAL           2562.0           2484.0   \n",
       "2   3  07/12/1998       dry      NATURAL           2494.0           2356.0   \n",
       "3   4  07/12/1998       dry        HUMAN           2115.0           2017.0   \n",
       "4   5  07/12/1998       dry      NATURAL           2085.0           1986.0   \n",
       "\n",
       "   aspect_degrees  length_m  width_m  perimeter_length_m  area_m2  \\\n",
       "0             4.0      63.0     33.0               168.0   1413.0   \n",
       "1            42.0     101.0    123.0               355.0   8762.0   \n",
       "2            21.0     127.0    351.0               834.0  30522.0   \n",
       "3           200.0     166.0     85.0               454.0   7837.0   \n",
       "4            42.0     128.0     18.0               265.0   1522.0   \n",
       "\n",
       "   aval_size_class  weight_AAI  max.danger.corr  \n",
       "0                2         0.1              NaN  \n",
       "1                2         0.1              3.0  \n",
       "2                3         1.0              3.0  \n",
       "3                2         0.1              3.0  \n",
       "4                2         0.1              3.0  "
      ]
     },
     "execution_count": 20,
     "metadata": {},
     "output_type": "execute_result"
    }
   ],
   "source": [
    "# Load data \n",
    "df = pd.read_csv('./Dataset/data_set_1_avalanche_observations_wi9899_to_wi1819_davos.csv', delimiter=';')\n",
    "df.head()"
   ]
  },
  {
   "cell_type": "code",
   "execution_count": 5,
   "id": "apparent-dutch",
   "metadata": {},
   "outputs": [
    {
     "name": "stdout",
     "output_type": "stream",
     "text": [
      "<class 'pandas.core.frame.DataFrame'>\n",
      "RangeIndex: 13918 entries, 0 to 13917\n",
      "Data columns (total 14 columns):\n",
      " #   Column              Non-Null Count  Dtype  \n",
      "---  ------              --------------  -----  \n",
      " 0   no                  13918 non-null  int64  \n",
      " 1   x                   13918 non-null  object \n",
      " 2   snow_type           13918 non-null  object \n",
      " 3   trigger_type        13918 non-null  object \n",
      " 4   max_elevation_m     13896 non-null  float64\n",
      " 5   min_elevation_m     13896 non-null  float64\n",
      " 6   aspect_degrees      13802 non-null  float64\n",
      " 7   length_m            13802 non-null  float64\n",
      " 8   width_m             13802 non-null  float64\n",
      " 9   perimeter_length_m  13802 non-null  float64\n",
      " 10  area_m2             13802 non-null  float64\n",
      " 11  aval_size_class     13918 non-null  int64  \n",
      " 12  weight_AAI          13918 non-null  float64\n",
      " 13  max.danger.corr     13745 non-null  float64\n",
      "dtypes: float64(9), int64(2), object(3)\n",
      "memory usage: 1.5+ MB\n"
     ]
    }
   ],
   "source": [
    "# Dataset overview\n",
    "df.info()"
   ]
  },
  {
   "cell_type": "code",
   "execution_count": 21,
   "id": "alive-queen",
   "metadata": {},
   "outputs": [
    {
     "name": "stdout",
     "output_type": "stream",
     "text": [
      "Avalanche days: 1365\n"
     ]
    }
   ],
   "source": [
    "# Print another initesting features\n",
    "print('Avalanche days:', len(df['x'].unique()))"
   ]
  },
  {
   "cell_type": "code",
   "execution_count": 39,
   "id": "processed-celebrity",
   "metadata": {},
   "outputs": [
    {
     "data": {
      "image/png": "[encoded data removed]",
      "text/plain": [
       "<Figure size 432x288 with 1 Axes>"
      ]
     },
     "metadata": {
      "needs_background": "light"
     },
     "output_type": "display_data"
    }
   ],
   "source": [
    "# Check how many avalanches are per year of preparing the dataset\n",
    "utils.create_bar_plot(df, 'year', 'Year', 'Avalanche activity', True)"
   ]
  },
  {
   "cell_type": "markdown",
   "id": "comparative-permission",
   "metadata": {},
   "source": [
    "The data set includes 13'917 avalanches spread within 1'365 days. \n",
    "As stated in the data set information during the first 7 years the amount of avalanches reported are much less than the years after. \n",
    "\n",
    "## 2. Prepare Data\n",
    "In this section we are going to clean and rework the data set. For that we are going to identify the:\n",
    "- Missing values\n",
    "- Categorical variables"
   ]
  },
  {
   "cell_type": "code",
   "execution_count": 22,
   "id": "equivalent-mortality",
   "metadata": {},
   "outputs": [
    {
     "name": "stdout",
     "output_type": "stream",
     "text": [
      "Columns with missing val:  {'aspect_degrees', 'width_m', 'max_elevation_m', 'perimeter_length_m', 'area_m2', 'max.danger.corr', 'length_m', 'min_elevation_m'}\n",
      "aspect_degrees column has 116 entries with null values\n",
      "width_m column has 116 entries with null values\n",
      "max_elevation_m column has 22 entries with null values\n",
      "perimeter_length_m column has 116 entries with null values\n",
      "area_m2 column has 116 entries with null values\n",
      "max.danger.corr column has 173 entries with null values\n",
      "length_m column has 116 entries with null values\n",
      "min_elevation_m column has 22 entries with null values\n",
      "We are missing 17.179192412702974% of the avalanche danger level values\n"
     ]
    }
   ],
   "source": [
    "# Check if there are missing values in any of the rows or columns.\n",
    "print('Columns with missing val: ', set(df.columns[df.isnull().any()]))\n",
    "\n",
    "for missing_val_col in set(df.columns[df.isnull().any()]):\n",
    "    # Check how many missing values has every column\n",
    "    missing_val = df[df[missing_val_col].isna() == True].shape[0]\n",
    "    print('{} column has {} entries with null values'.format(missing_val_col, missing_val))\n",
    "    \n",
    "    missing_val_tot += missing_val\n",
    "    \n",
    "print('We are missing {}% of the avalanche danger level values'.format(missing_val_tot/(df.shape[0])*100))"
   ]
  },
  {
   "cell_type": "markdown",
   "id": "growing-configuration",
   "metadata": {},
   "source": [
    "### 2.1. Missing values\n",
    "\n",
    "From the missing values list we can get the following conlcusions:\n",
    "\n",
    "1. There are 4 columns related to the avalanche size in which 116 values are missing. In the dataset instructions is mentioned that those avalanches which are too small to derive meaningful values of length and width are set to null. Nonetheless, they were still assigned an avalanche size of 1. Since the information is given in other columns and those missing values are only related to specific domain, this rows might be usefull for different purposes.  \n",
    "\n",
    "2. The column associeted to avalanche danger level has 173 rows with missing values. Since during this project we will continously check this informtation and it would be risky to impute those values (for the scope and time of the project), we will drop them.\n",
    "\n",
    "3. The min and may elevation of the avalanche column has 22 entries with null values. For this first analysis those features are not taken into account. Therefore, we can drop them as well.  \n"
   ]
  },
  {
   "cell_type": "code",
   "execution_count": 23,
   "id": "consolidated-proposal",
   "metadata": {},
   "outputs": [],
   "source": [
    "# Drop missing values of the selected columns\n",
    "df.dropna(subset=['max.danger.corr', 'min_elevation_m', 'max_elevation_m'], axis=0, inplace=True)\n",
    "df.reset_index(inplace=True, drop=True)"
   ]
  },
  {
   "cell_type": "markdown",
   "id": "cathedral-receiver",
   "metadata": {},
   "source": [
    "### 2.2 Categorical variables\n",
    "\n",
    "Having a look in the columns there are those columns which are of type categorical:\n",
    "- Snow type (wet, dry or mixed)\n",
    "- Trigger type (human, explosive, natural)\n",
    "\n",
    "In addition to this, we will create a new column called 'season' as categorical variable.\n",
    "- Season (winter, spring, summer, autumn)\n"
   ]
  },
  {
   "cell_type": "code",
   "execution_count": 24,
   "id": "elementary-bryan",
   "metadata": {},
   "outputs": [
    {
     "name": "stdout",
     "output_type": "stream",
     "text": [
      "['summer' 'autumn' 'winter' 'spring']\n"
     ]
    }
   ],
   "source": [
    "# Read the 'date' column and create three columns out of it: day, month and year\n",
    "date = pd.to_datetime(df['x'])\n",
    "date_df = pd.concat([pd.DataFrame(date.array.year),pd.DataFrame(date.array.month),pd.DataFrame(date.array.day)], axis=1)\n",
    "\n",
    "date_df.columns = ['year', 'month', 'day']\n",
    "df = pd.concat([date_df, df], axis=1)\n",
    "\n",
    "# Group by season categorical value created from the month of release\n",
    "df.insert(3, \"season\", None, True)\n",
    "df.loc[[x in definition.winter for x in df['month']], 'season'] = 'winter'\n",
    "df.loc[[x in definition.spring for x in df['month']], 'season'] = 'spring'\n",
    "df.loc[[x in definition.summer for x in df['month']], 'season'] = 'summer'\n",
    "df.loc[[x in definition.autumn for x in df['month']], 'season'] = 'autumn'\n",
    "\n",
    "print(df['season'].unique())"
   ]
  },
  {
   "cell_type": "code",
   "execution_count": 25,
   "id": "amateur-catholic",
   "metadata": {},
   "outputs": [
    {
     "name": "stdout",
     "output_type": "stream",
     "text": [
      "['DRY' 'UNKNOWN' 'WET' 'MIXED']\n"
     ]
    }
   ],
   "source": [
    "# Set type of snow column as categorical\n",
    "snow_type = list(df['snow_type'].unique())\n",
    "df.snow_type = df['snow_type'].astype(CategoricalDtype(categories=snow_type, ordered=False))\n",
    "df.snow_type = df['snow_type'].str.upper()\n",
    "\n",
    "print(df['snow_type'].unique())"
   ]
  },
  {
   "cell_type": "code",
   "execution_count": 26,
   "id": "collected-connecticut",
   "metadata": {},
   "outputs": [
    {
     "name": "stdout",
     "output_type": "stream",
     "text": [
      "['NATURAL' 'HUMAN' 'UNKNOWN' 'EXPLOSIVE']\n"
     ]
    }
   ],
   "source": [
    "# Set avalanche trigger type column as categorical\n",
    "trigger = list(df['trigger_type'].unique())\n",
    "df.trigger_type = df['trigger_type'].astype(CategoricalDtype(categories=trigger, ordered=False))\n",
    "df.trigger_type = df['trigger_type'].str.upper()\n",
    "\n",
    "print(df['trigger_type'].unique())"
   ]
  },
  {
   "cell_type": "code",
   "execution_count": 28,
   "id": "eastern-demographic",
   "metadata": {},
   "outputs": [],
   "source": [
    "# Save cleaned and reworked data frame to csv file\n",
    "df.to_csv('avalanche_observarions_clean.csv', index=False)"
   ]
  },
  {
   "cell_type": "markdown",
   "id": "raising-affect",
   "metadata": {},
   "source": [
    "## Data Analysis and Visualization\n",
    "\n",
    "In this section we are going to answer the pre-defined questions by analysing and visualising the previously cleaned data. "
   ]
  },
  {
   "cell_type": "code",
   "execution_count": 30,
   "id": "hispanic-trainer",
   "metadata": {},
   "outputs": [
    {
     "data": {
      "text/html": [
       "<div>\n",
       "<style scoped>\n",
       "    .dataframe tbody tr th:only-of-type {\n",
       "        vertical-align: middle;\n",
       "    }\n",
       "\n",
       "    .dataframe tbody tr th {\n",
       "        vertical-align: top;\n",
       "    }\n",
       "\n",
       "    .dataframe thead th {\n",
       "        text-align: right;\n",
       "    }\n",
       "</style>\n",
       "<table border=\"1\" class=\"dataframe\">\n",
       "  <thead>\n",
       "    <tr style=\"text-align: right;\">\n",
       "      <th></th>\n",
       "      <th>year</th>\n",
       "      <th>month</th>\n",
       "      <th>day</th>\n",
       "      <th>season</th>\n",
       "      <th>no</th>\n",
       "      <th>x</th>\n",
       "      <th>snow_type</th>\n",
       "      <th>trigger_type</th>\n",
       "      <th>max_elevation_m</th>\n",
       "      <th>min_elevation_m</th>\n",
       "      <th>aspect_degrees</th>\n",
       "      <th>length_m</th>\n",
       "      <th>width_m</th>\n",
       "      <th>perimeter_length_m</th>\n",
       "      <th>area_m2</th>\n",
       "      <th>aval_size_class</th>\n",
       "      <th>weight_AAI</th>\n",
       "      <th>max.danger.corr</th>\n",
       "    </tr>\n",
       "  </thead>\n",
       "  <tbody>\n",
       "    <tr>\n",
       "      <th>0</th>\n",
       "      <td>1998</td>\n",
       "      <td>7</td>\n",
       "      <td>12</td>\n",
       "      <td>summer</td>\n",
       "      <td>2</td>\n",
       "      <td>07/12/1998</td>\n",
       "      <td>DRY</td>\n",
       "      <td>NATURAL</td>\n",
       "      <td>2562.0</td>\n",
       "      <td>2484.0</td>\n",
       "      <td>42.0</td>\n",
       "      <td>101.0</td>\n",
       "      <td>123.0</td>\n",
       "      <td>355.0</td>\n",
       "      <td>8762.0</td>\n",
       "      <td>2</td>\n",
       "      <td>0.1</td>\n",
       "      <td>3.0</td>\n",
       "    </tr>\n",
       "    <tr>\n",
       "      <th>1</th>\n",
       "      <td>1998</td>\n",
       "      <td>7</td>\n",
       "      <td>12</td>\n",
       "      <td>summer</td>\n",
       "      <td>3</td>\n",
       "      <td>07/12/1998</td>\n",
       "      <td>DRY</td>\n",
       "      <td>NATURAL</td>\n",
       "      <td>2494.0</td>\n",
       "      <td>2356.0</td>\n",
       "      <td>21.0</td>\n",
       "      <td>127.0</td>\n",
       "      <td>351.0</td>\n",
       "      <td>834.0</td>\n",
       "      <td>30522.0</td>\n",
       "      <td>3</td>\n",
       "      <td>1.0</td>\n",
       "      <td>3.0</td>\n",
       "    </tr>\n",
       "    <tr>\n",
       "      <th>2</th>\n",
       "      <td>1998</td>\n",
       "      <td>7</td>\n",
       "      <td>12</td>\n",
       "      <td>summer</td>\n",
       "      <td>4</td>\n",
       "      <td>07/12/1998</td>\n",
       "      <td>DRY</td>\n",
       "      <td>HUMAN</td>\n",
       "      <td>2115.0</td>\n",
       "      <td>2017.0</td>\n",
       "      <td>200.0</td>\n",
       "      <td>166.0</td>\n",
       "      <td>85.0</td>\n",
       "      <td>454.0</td>\n",
       "      <td>7837.0</td>\n",
       "      <td>2</td>\n",
       "      <td>0.1</td>\n",
       "      <td>3.0</td>\n",
       "    </tr>\n",
       "    <tr>\n",
       "      <th>3</th>\n",
       "      <td>1998</td>\n",
       "      <td>7</td>\n",
       "      <td>12</td>\n",
       "      <td>summer</td>\n",
       "      <td>5</td>\n",
       "      <td>07/12/1998</td>\n",
       "      <td>DRY</td>\n",
       "      <td>NATURAL</td>\n",
       "      <td>2085.0</td>\n",
       "      <td>1986.0</td>\n",
       "      <td>42.0</td>\n",
       "      <td>128.0</td>\n",
       "      <td>18.0</td>\n",
       "      <td>265.0</td>\n",
       "      <td>1522.0</td>\n",
       "      <td>2</td>\n",
       "      <td>0.1</td>\n",
       "      <td>3.0</td>\n",
       "    </tr>\n",
       "    <tr>\n",
       "      <th>4</th>\n",
       "      <td>1998</td>\n",
       "      <td>7</td>\n",
       "      <td>12</td>\n",
       "      <td>summer</td>\n",
       "      <td>6</td>\n",
       "      <td>07/12/1998</td>\n",
       "      <td>DRY</td>\n",
       "      <td>NATURAL</td>\n",
       "      <td>2605.0</td>\n",
       "      <td>2529.0</td>\n",
       "      <td>240.0</td>\n",
       "      <td>127.0</td>\n",
       "      <td>63.0</td>\n",
       "      <td>324.0</td>\n",
       "      <td>5929.0</td>\n",
       "      <td>2</td>\n",
       "      <td>0.1</td>\n",
       "      <td>3.0</td>\n",
       "    </tr>\n",
       "  </tbody>\n",
       "</table>\n",
       "</div>"
      ],
      "text/plain": [
       "   year  month  day  season  no           x snow_type trigger_type  \\\n",
       "0  1998      7   12  summer   2  07/12/1998       DRY      NATURAL   \n",
       "1  1998      7   12  summer   3  07/12/1998       DRY      NATURAL   \n",
       "2  1998      7   12  summer   4  07/12/1998       DRY        HUMAN   \n",
       "3  1998      7   12  summer   5  07/12/1998       DRY      NATURAL   \n",
       "4  1998      7   12  summer   6  07/12/1998       DRY      NATURAL   \n",
       "\n",
       "   max_elevation_m  min_elevation_m  aspect_degrees  length_m  width_m  \\\n",
       "0           2562.0           2484.0            42.0     101.0    123.0   \n",
       "1           2494.0           2356.0            21.0     127.0    351.0   \n",
       "2           2115.0           2017.0           200.0     166.0     85.0   \n",
       "3           2085.0           1986.0            42.0     128.0     18.0   \n",
       "4           2605.0           2529.0           240.0     127.0     63.0   \n",
       "\n",
       "   perimeter_length_m  area_m2  aval_size_class  weight_AAI  max.danger.corr  \n",
       "0               355.0   8762.0                2         0.1              3.0  \n",
       "1               834.0  30522.0                3         1.0              3.0  \n",
       "2               454.0   7837.0                2         0.1              3.0  \n",
       "3               265.0   1522.0                2         0.1              3.0  \n",
       "4               324.0   5929.0                2         0.1              3.0  "
      ]
     },
     "execution_count": 30,
     "metadata": {},
     "output_type": "execute_result"
    }
   ],
   "source": [
    "# Load cleaned data\n",
    "df = pd.read_csv('avalanche_observarions_clean.csv')\n",
    "df.head()"
   ]
  },
  {
   "cell_type": "markdown",
   "id": "average-australian",
   "metadata": {},
   "source": []
  },
  {
   "cell_type": "markdown",
   "id": "controlled-consultation",
   "metadata": {},
   "source": [
    "### a) Avalanche features correlation\n",
    "In order to have an overview of the dataset, we are going to create a correlation map displaying the relation between a pre-selected pairs of features. "
   ]
  },
  {
   "cell_type": "code",
   "execution_count": 37,
   "id": "ceramic-platform",
   "metadata": {},
   "outputs": [
    {
     "name": "stdout",
     "output_type": "stream",
     "text": [
      "Index(['year', 'month', 'day', 'no', 'x', 'max_elevation_m', 'min_elevation_m',\n",
      "       'aspect_degrees', 'length_m', 'width_m', 'perimeter_length_m',\n",
      "       'area_m2', 'aval_size_class', 'weight_AAI', 'max.danger.corr',\n",
      "       'snow_type_DRY', 'snow_type_MIXED', 'snow_type_UNKNOWN',\n",
      "       'snow_type_WET', 'trigger_type_EXPLOSIVE', 'trigger_type_HUMAN',\n",
      "       'trigger_type_NATURAL', 'trigger_type_UNKNOWN', 'season_autumn',\n",
      "       'season_spring', 'season_summer', 'season_winter'],\n",
      "      dtype='object')\n"
     ]
    },
    {
     "data": {
      "image/png": "[encoded data removed]",
      "text/plain": [
       "<Figure size 1152x432 with 2 Axes>"
      ]
     },
     "metadata": {
      "needs_background": "light"
     },
     "output_type": "display_data"
    }
   ],
   "source": [
    "# Create one column for each category of the categorical variables\n",
    "correlation_df = utils.create_dummy_df(df, ['snow_type', 'trigger_type', 'season'], False)\n",
    "print(correlation_df.columns)\n",
    "\n",
    "# Select a subset of columns to display\n",
    "selected_col = ['max_elevation_m', 'aval_size_class', \n",
    "                'snow_type_DRY', 'snow_type_MIXED', 'snow_type_WET',\n",
    "                'trigger_type_EXPLOSIVE', 'trigger_type_HUMAN', 'trigger_type_NATURAL',\n",
    "                'season_autumn', 'season_spring', 'season_summer', 'season_winter',\n",
    "                'max.danger.corr']\n",
    "correlation_df = correlation_df[selected_col]\n",
    "\n",
    "utils.create_correlation_map(df=correlation_df, title='Avalanche features correlation map')"
   ]
  },
  {
   "cell_type": "markdown",
   "id": "included-condition",
   "metadata": {},
   "source": [
    "**What can we say about the heatmap?**\n",
    "\n",
    "Due to we are working with categorical values (e.g. _trigger_type_HUMAN_, _trigger_type_NATURAL_, _trigger_type_EXPLOSIVE_) the correlation coefficients between values from the same category are meaningless.\n",
    "\n",
    "Even though there are no major dependencies between features, there are some which are more correlated than others. For instance, we can state that the snow type _WET_ is associated to the season _SPRING_ whereas the snow type _DRY_ is linked to _WINTER_, which makes a lot of sense. \n",
    "Surprisingly to my expectations, the avalanche size has not shown much correlation with respect to the avalanche danger level. This may suggest that this feature might remain to a secondary importance when assessing the risk level. \n",
    "\n",
    "### b) Avalanche danger level\n",
    "The European avalanche danger scale ranges from 1-Low to 5-Very High and it is based on the snowpack stability and the avalanche triggering probability. In addition, the Avalanche Activity Index (AAI) is a useful parameter when assessing avalange danger since it indicates the number of avalanches per day.\n",
    "\n",
    "Let's check the avalanche danger per season and per AAI."
   ]
  },
  {
   "cell_type": "code",
   "execution_count": 40,
   "id": "imperial-adrian",
   "metadata": {},
   "outputs": [
    {
     "data": {
      "image/png": "[encoded data removed]",
      "text/plain": [
       "<Figure size 432x288 with 1 Axes>"
      ]
     },
     "metadata": {
      "needs_background": "light"
     },
     "output_type": "display_data"
    }
   ],
   "source": [
    "# Plot the avalanche danger level (stacked in the 5 different levels) per season type (winter, spring, summer and autum)\n",
    "utils.create_stacked_bar_plot(df, 'max.danger.corr', 'season')"
   ]
  },
  {
   "cell_type": "code",
   "execution_count": 41,
   "id": "aggregate-peeing",
   "metadata": {},
   "outputs": [
    {
     "data": {
      "image/png": "[encoded data removed]",
      "text/plain": [
       "<Figure size 432x288 with 1 Axes>"
      ]
     },
     "metadata": {
      "needs_background": "light"
     },
     "output_type": "display_data"
    }
   ],
   "source": [
    "data_box_plot=[]\n",
    "for i in sorted(df['max.danger.corr'].unique()):\n",
    "    # Take a subset of specific avalanche danger level\n",
    "    df_av_freq = df[df['max.danger.corr'] == i]\n",
    "\n",
    "    # Gather the data to create the box plot\n",
    "    data_box_plot.append(df_av_freq['x'].value_counts().values)\n",
    "\n",
    "# Box plot\n",
    "utils.create_box_plot(data_box_plot)"
   ]
  },
  {
   "cell_type": "markdown",
   "id": "solid-civilian",
   "metadata": {},
   "source": [
    "**What can we say about the plots?**\n",
    "\n",
    "As shown in the box plot, the AAI mean per ascending danger level is 1.73, 2.95, 8.85, 46.91 and 27.33, respectively. Hence, there is a tendance of higher  AAI with higher risk.\n",
    "\n",
    "The danger level _5-Very High_ is documented to be most likely incomplete, so it might be the reason why it does not follow the mentioned tendancy.\n",
    "\n",
    "Last but not least, another interesting plot would be to show how many avalanches has been released within all days in a specific danger level. Unfortunately, the data set does not contain the danger information of those days in which any avalanche was released (AAI=0).\n",
    "\n",
    "\n",
    "### b) Avalanche danger level related to snow and trigger type and size\n"
   ]
  },
  {
   "cell_type": "code",
   "execution_count": null,
   "id": "weekly-preliminary",
   "metadata": {},
   "outputs": [],
   "source": []
  }
 ],
 "metadata": {
  "kernelspec": {
   "display_name": "Python 3",
   "language": "python",
   "name": "python3"
  },
  "language_info": {
   "codemirror_mode": {
    "name": "ipython",
    "version": 3
   },
   "file_extension": ".py",
   "mimetype": "text/x-python",
   "name": "python",
   "nbconvert_exporter": "python",
   "pygments_lexer": "ipython3",
   "version": "3.9.1"
  }
 },
 "nbformat": 4,
 "nbformat_minor": 5
}
